{
  "nbformat": 4,
  "nbformat_minor": 0,
  "metadata": {
    "kernelspec": {
      "display_name": "Python 3",
      "language": "python",
      "name": "python3"
    },
    "language_info": {
      "codemirror_mode": {
        "name": "ipython",
        "version": 3
      },
      "file_extension": ".py",
      "mimetype": "text/x-python",
      "name": "python",
      "nbconvert_exporter": "python",
      "pygments_lexer": "ipython3",
      "version": "3.5.1"
    },
    "colab": {
      "name": "Assignment 02.ipynb",
      "provenance": [],
      "include_colab_link": true
    }
  },
  "cells": [
    {
      "cell_type": "markdown",
      "metadata": {
        "id": "view-in-github",
        "colab_type": "text"
      },
      "source": [
        "<a href=\"https://colab.research.google.com/github/vijayaahirejadhav/DataScience/blob/main/Assignment_02.ipynb\" target=\"_parent\"><img src=\"https://colab.research.google.com/assets/colab-badge.svg\" alt=\"Open In Colab\"/></a>"
      ]
    },
    {
      "cell_type": "markdown",
      "metadata": {
        "id": "U2rWdpP5nd9U"
      },
      "source": [
        "<img src=\"http://cfs22.simplicdn.net/ice9/new_logo.svgz \"/>\n",
        "\n",
        "# Assignment 02: Evaluate the Summer Olympics, London 2012 dataset\n",
        "\n",
        "*The comments/sections provided are your cues to perform the assignment. You don't need to limit yourself to the number of rows/cells provided. You can add additional rows in each section to add more lines of code.*\n",
        "\n",
        "*If at any point in time you need help on solving this assignment, view our demo video to understand the different steps of the code.*\n",
        "\n",
        "**Happy coding!**\n",
        "\n",
        "* * *"
      ]
    },
    {
      "cell_type": "markdown",
      "metadata": {
        "id": "XbUZt_lfnd9X"
      },
      "source": [
        "#### 1: View and add the dataset"
      ]
    },
    {
      "cell_type": "code",
      "metadata": {
        "id": "aWzQY8zBnd9Z"
      },
      "source": [
        "#Import the necessary library\n",
        "import numpy as np"
      ],
      "execution_count": 1,
      "outputs": []
    },
    {
      "cell_type": "code",
      "metadata": {
        "id": "FWjq-E7Bnd9j"
      },
      "source": [
        "#Manually add the Summer Olympics, London 2012 dataset as arrays\n",
        "np_olympic_country=np.array(['Great Britain','China','Russia','United States','Korea','Japan','Germany'])\n",
        "np_olympic_country_code=np.array(['GBR','CHN','RUS','US','KOR','JPN','GER'])\n",
        "np_olympic_country_year=np.array([2012,2012,2012,2012,2012,2012,2012])\n",
        "np_olympic_country_gold=np.array([29,38,24,46,13,7,11])\n",
        "np_olympic_country_sliver=np.array([17,28,25,28,8,14,11])\n",
        "np_olympic_country_bronze=np.array([19,22,32,29,7,17,14])"
      ],
      "execution_count": 5,
      "outputs": []
    },
    {
      "cell_type": "markdown",
      "metadata": {
        "id": "XmycNZRynd9q"
      },
      "source": [
        "#### Find the country with maximum gold medals"
      ]
    },
    {
      "cell_type": "code",
      "metadata": {
        "id": "HqKTB_hHnd9r"
      },
      "source": [
        "#Use the argmax() method to find the highest number of gold medals\n",
        "maxgold=np_olympic_country_gold.argmax()"
      ],
      "execution_count": 7,
      "outputs": []
    },
    {
      "cell_type": "code",
      "metadata": {
        "id": "NeIpcBznnd9y",
        "outputId": "e8ca1c47-f25f-4f33-cf49-4cd0f5acf3c4",
        "colab": {
          "base_uri": "https://localhost:8080/",
          "height": 35
        }
      },
      "source": [
        "#Print the name of the country\n",
        "np_olympic_country[maxgold]"
      ],
      "execution_count": 8,
      "outputs": [
        {
          "output_type": "execute_result",
          "data": {
            "application/vnd.google.colaboratory.intrinsic+json": {
              "type": "string"
            },
            "text/plain": [
              "'United States'"
            ]
          },
          "metadata": {
            "tags": []
          },
          "execution_count": 8
        }
      ]
    },
    {
      "cell_type": "markdown",
      "metadata": {
        "id": "dLYNdGiGnd94"
      },
      "source": [
        "#### Find the countries with more than 20 gold medals"
      ]
    },
    {
      "cell_type": "code",
      "metadata": {
        "id": "nuIETFs7nd96",
        "outputId": "9b004012-1818-4d4a-fd0b-e6b7bcfed52e",
        "colab": {
          "base_uri": "https://localhost:8080/"
        }
      },
      "source": [
        "#Use Boolean indexing technique to find the required output\n",
        "for i,value in enumerate(np_olympic_country_gold):\n",
        "  if (value > 20):\n",
        "    print(np_olympic_country[i])"
      ],
      "execution_count": 10,
      "outputs": [
        {
          "output_type": "stream",
          "text": [
            "Great Britain\n",
            "China\n",
            "Russia\n",
            "United States\n"
          ],
          "name": "stdout"
        }
      ]
    },
    {
      "cell_type": "markdown",
      "metadata": {
        "id": "p2K1Qjfcnd-B"
      },
      "source": [
        "#### Evaluate the dataset and print the name of each country with its gold medals and total number of medals"
      ]
    },
    {
      "cell_type": "code",
      "metadata": {
        "id": "xAIYh4lQnd-C",
        "outputId": "1f5792d7-a7d3-4d48-f3cc-8edfed8129b4",
        "colab": {
          "base_uri": "https://localhost:8080/"
        }
      },
      "source": [
        "#Use a for loop to create the required output\n",
        "for i,value in enumerate(np_olympic_country_gold): \n",
        "  total_metal=np_olympic_country_gold[i]+np_olympic_country_sliver[i]+np_olympic_country_bronze[i]\n",
        "  print(\"{} , having {} gold medals,  and total medals {}\".format(np_olympic_country[i],value,total_metal))\n"
      ],
      "execution_count": 18,
      "outputs": [
        {
          "output_type": "stream",
          "text": [
            "Great Britain , having 29 gold medals,  and total medals 92\n",
            "China , having 38 gold medals,  and total medals 132\n",
            "Russia , having 24 gold medals,  and total medals 98\n",
            "United States , having 46 gold medals,  and total medals 148\n",
            "Korea , having 13 gold medals,  and total medals 42\n",
            "Japan , having 7 gold medals,  and total medals 42\n",
            "Germany , having 11 gold medals,  and total medals 44\n"
          ],
          "name": "stdout"
        }
      ]
    }
  ]
}