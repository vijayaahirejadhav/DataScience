{
  "nbformat": 4,
  "nbformat_minor": 0,
  "metadata": {
    "kernelspec": {
      "display_name": "Python 3",
      "language": "python",
      "name": "python3"
    },
    "language_info": {
      "codemirror_mode": {
        "name": "ipython",
        "version": 3
      },
      "file_extension": ".py",
      "mimetype": "text/x-python",
      "name": "python",
      "nbconvert_exporter": "python",
      "pygments_lexer": "ipython3",
      "version": "3.7.6"
    },
    "colab": {
      "name": "Analyse London Olympics Dataset.ipynb",
      "provenance": [],
      "include_colab_link": true
    }
  },
  "cells": [
    {
      "cell_type": "markdown",
      "metadata": {
        "id": "view-in-github",
        "colab_type": "text"
      },
      "source": [
        "<a href=\"https://colab.research.google.com/github/vijayaahirejadhav/DataScience/blob/main/Analyse_London_Olympics_Dataset.ipynb\" target=\"_parent\"><img src=\"https://colab.research.google.com/assets/colab-badge.svg\" alt=\"Open In Colab\"/></a>"
      ]
    },
    {
      "cell_type": "markdown",
      "metadata": {
        "id": "LvkDcc6EjJ9G"
      },
      "source": [
        "<img src=\"http://cfs22.simplicdn.net/ice9/new_logo.svgz \"/>\n",
        "\n",
        "# Assignment 02: Evaluate the Summer Olympics, London 2012 dataset\n",
        "\n",
        "*The comments/sections provided are your cues to perform the assignment. You don't need to limit yourself to the number of rows/cells provided. You can add additional rows in each section to add more lines of code.*\n",
        "\n",
        "*If at any point in time you need help on solving this assignment, view our demo video to understand the different steps of the code.*\n",
        "\n",
        "**Happy coding!**\n",
        "\n",
        "* * *"
      ]
    },
    {
      "cell_type": "markdown",
      "metadata": {
        "id": "5TayabwIjJ9W"
      },
      "source": [
        "#### 1: View and add the dataset"
      ]
    },
    {
      "cell_type": "code",
      "metadata": {
        "id": "lPdc5EpejJ9X"
      },
      "source": [
        "#Import the necessary library\n",
        "import numpy as np"
      ],
      "execution_count": 1,
      "outputs": []
    },
    {
      "cell_type": "code",
      "metadata": {
        "id": "PuldaeVzjJ9Z"
      },
      "source": [
        "#Manually add the Summer Olympics, London 2012 dataset as arrays\n",
        "np_list_of_country=np.array(['Great Britain','China','Russia','United States','Korea','Japan','Germany'])\n",
        "np_list_of_country_code=np.array(['GBR','CHN','RUS','US','KOR','JPN','GER'])\n",
        "np_list_of_year=np.array([2012,2012,2012,2012,2012,2012,2012])\n",
        "np_list_of_gold=np.array([29,38,24,46,13,7,11])\n",
        "np_list_of_silver=np.array([17,28,25,28,8,14,11])\n",
        "np_list_of_bronze=np.array([19,22,32,29,7,17,14])\n",
        "\n"
      ],
      "execution_count": 2,
      "outputs": []
    },
    {
      "cell_type": "markdown",
      "metadata": {
        "id": "Yv6t_JWijJ9a"
      },
      "source": [
        "#### Find the country with maximum gold medals"
      ]
    },
    {
      "cell_type": "code",
      "metadata": {
        "id": "wYxP3p0_jJ9c"
      },
      "source": [
        "#Use the argmax() method to find the highest number of gold medals\n",
        "max_gold=np_list_of_gold.argmax()"
      ],
      "execution_count": 3,
      "outputs": []
    },
    {
      "cell_type": "code",
      "metadata": {
        "colab": {
          "base_uri": "https://localhost:8080/",
          "height": 35
        },
        "id": "tCgEGqOkjJ9c",
        "outputId": "28c38448-4025-494b-8975-4c6d6b22b011"
      },
      "source": [
        "#Print the name of the country\n",
        "np_list_of_country[max_gold]"
      ],
      "execution_count": 4,
      "outputs": [
        {
          "output_type": "execute_result",
          "data": {
            "application/vnd.google.colaboratory.intrinsic+json": {
              "type": "string"
            },
            "text/plain": [
              "'United States'"
            ]
          },
          "metadata": {
            "tags": []
          },
          "execution_count": 4
        }
      ]
    },
    {
      "cell_type": "markdown",
      "metadata": {
        "id": "hBvw4EFJjJ9g"
      },
      "source": [
        "#### Find the countries with more than 20 gold medals"
      ]
    },
    {
      "cell_type": "code",
      "metadata": {
        "colab": {
          "base_uri": "https://localhost:8080/"
        },
        "id": "q4uAdrugjJ9h",
        "outputId": "5dafb2e1-97d5-49dc-ea31-fc264db7954d"
      },
      "source": [
        "#Use Boolean indexing technique to find the required output\n",
        "print(np_list_of_country[np_list_of_gold>20])"
      ],
      "execution_count": 5,
      "outputs": [
        {
          "output_type": "stream",
          "text": [
            "['Great Britain' 'China' 'Russia' 'United States']\n"
          ],
          "name": "stdout"
        }
      ]
    },
    {
      "cell_type": "markdown",
      "metadata": {
        "id": "lpvKB3d2jJ9i"
      },
      "source": [
        "#### Evaluate the dataset and print the name of each country with its gold medals and total number of medals"
      ]
    },
    {
      "cell_type": "code",
      "metadata": {
        "colab": {
          "base_uri": "https://localhost:8080/"
        },
        "id": "mgKbR92cjJ9j",
        "outputId": "cdc5e4bd-3734-40b4-a809-219b11f6da12"
      },
      "source": [
        "#Use a for loop to create the required output\n",
        "print(\"Country\",\"Gold Medals\",\"Total_medals\")\n",
        "for i in range(len(np_list_of_country)):\n",
        "    total_medals=np_list_of_gold[i]+np_list_of_silver[i]+np_list_of_bronze[i]\n",
        "    print(np_list_of_country[i],np_list_of_gold[i],total_medals)"
      ],
      "execution_count": 6,
      "outputs": [
        {
          "output_type": "stream",
          "text": [
            "Country Gold Medals Total_medals\n",
            "Great Britain 29 65\n",
            "China 38 88\n",
            "Russia 24 81\n",
            "United States 46 103\n",
            "Korea 13 28\n",
            "Japan 7 38\n",
            "Germany 11 36\n"
          ],
          "name": "stdout"
        }
      ]
    },
    {
      "cell_type": "code",
      "metadata": {
        "id": "2u0-pNnHjJ9l"
      },
      "source": [
        ""
      ],
      "execution_count": 6,
      "outputs": []
    }
  ]
}