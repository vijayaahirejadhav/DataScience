{
  "nbformat": 4,
  "nbformat_minor": 0,
  "metadata": {
    "kernelspec": {
      "display_name": "Python 3",
      "language": "python",
      "name": "python3"
    },
    "language_info": {
      "codemirror_mode": {
        "name": "ipython",
        "version": 3
      },
      "file_extension": ".py",
      "mimetype": "text/x-python",
      "name": "python",
      "nbconvert_exporter": "python",
      "pygments_lexer": "ipython3",
      "version": "3.5.1"
    },
    "colab": {
      "name": "Assignment 01.ipynb",
      "provenance": [],
      "collapsed_sections": [],
      "include_colab_link": true
    },
    "accelerator": "GPU"
  },
  "cells": [
    {
      "cell_type": "markdown",
      "metadata": {
        "id": "view-in-github",
        "colab_type": "text"
      },
      "source": [
        "<a href=\"https://colab.research.google.com/github/vijayaahirejadhav/DataScience/blob/main/Assignment_01.ipynb\" target=\"_parent\"><img src=\"https://colab.research.google.com/assets/colab-badge.svg\" alt=\"Open In Colab\"/></a>"
      ]
    },
    {
      "cell_type": "markdown",
      "metadata": {
        "id": "vK_uUTQj2CgW"
      },
      "source": [
        "<img src=\"http://cfs22.simplicdn.net/ice9/new_logo.svgz \"/>\n",
        "\n",
        "# Assignment 01: Evaluate the GDP Dataset\n",
        "\n",
        "*The comments/sections provided are your cues to perform the assignment. You don't need to limit yourself to the number of rows/cells provided. You can add additional rows in each section to add more lines of code.*\n",
        "\n",
        "*If at any point in time you need help on solving this assignment, view our demo video to understand the different steps of the code.*\n",
        "\n",
        "**Happy coding!**\n",
        "\n",
        "* * *"
      ]
    },
    {
      "cell_type": "markdown",
      "metadata": {
        "id": "YubvSwSr2Cga"
      },
      "source": [
        "#### 1: View and add the dataset"
      ]
    },
    {
      "cell_type": "code",
      "metadata": {
        "id": "0tlkESa42Cge"
      },
      "source": [
        "#Import required library\n",
        "import numpy as np\n"
      ],
      "execution_count": 1,
      "outputs": []
    },
    {
      "cell_type": "code",
      "metadata": {
        "id": "i9Gz36Ko2Cgw"
      },
      "source": [
        "#Manually add the dataset\n",
        "list_of_countries=['Algeria','Angola','Argentina','Australia','Austria','Bahamas','Bangladesh','Belarus','Belgium','Bhutan','Brazil','Bulgaria','Cambodia','Cameroon','Chile','China','Colombia','Cyprus','Denmark','El Salvador','Estonia','Ethiopia','Fiji','Finland','France','Georgia','Ghana','Grenada','Guinea','Haiti','Honduras','Hungary','India','Indonesia','Ireland','Italy','Japan','Kenya', 'South Korea','Liberia','Malaysia','Mexico', 'Morocco','Nepal','New Zealand','Norway','Pakistan', 'Peru','Qatar','Russia','Singapore','South Africa','Spain','Sweden','Switzerland','Thailand', 'United Arab Emirates','United Kingdom','United States','Uruguay','Venezuela','Vietnam','Zimbabwe']\n",
        "list_of_GDP=[2255.225482,629.9553062,11601.63022,25306.82494,27266.40335,19466.99052,588.3691778,2890.345675,24733.62696,1445.760002,4803.398244,2618.876037,590.4521124,665.7982328,7122.938458,2639.54156,3362.4656,15378.16704,30860.12808,2579.115607,6525.541272,229.6769525,2242.689259,27570.4852,23016.84778,1334.646773,402.6953275,6047.200797,394.1156638,385.5793827,1414.072488,5745.981529,837.7464011,1206.991065,27715.52837,18937.24998,39578.07441,478.2194906,16684.21278,279.2204061,5345.213415,6288.25324,1908.304416,274.8728621,14646.42094,40034.85063,672.1547506,3359.517402,36152.66676,3054.727742,33529.83052,3825.093781,15428.32098,33630.24604,39170.41371,2699.123242,21058.43643,28272.40661,37691.02733,9581.05659,5671.912202,757.4009286,347.7456605]\n",
        "np_List_of_countries=np.array(list_of_countries)\n",
        "np_List_of_GDP=np.array(list_of_GDP)\n",
        "np_countries_gdp=np.array([list_of_countries,list_of_GDP])"
      ],
      "execution_count": null,
      "outputs": []
    },
    {
      "cell_type": "markdown",
      "metadata": {
        "collapsed": true,
        "id": "PZZBLNVq2Cg_"
      },
      "source": [
        "#### 2: Find and print the name of the country with the highest GDP"
      ]
    },
    {
      "cell_type": "code",
      "metadata": {
        "id": "1E0WnBp02ChB",
        "outputId": "04ce5e22-f424-417b-95b5-7e03e8017460",
        "colab": {
          "base_uri": "https://localhost:8080/"
        }
      },
      "source": [
        "#Use the argmax() method to find the highest GDP \n",
        "\n",
        "np_List_of_GDP[np.argmax(np_List_of_GDP)]"
      ],
      "execution_count": null,
      "outputs": [
        {
          "output_type": "execute_result",
          "data": {
            "text/plain": [
              "40034.85063"
            ]
          },
          "metadata": {
            "tags": []
          },
          "execution_count": 9
        }
      ]
    },
    {
      "cell_type": "code",
      "metadata": {
        "id": "lT23b6Qs2ChO",
        "outputId": "bbe02f0e-efb7-464f-fe1d-02b883c98800",
        "colab": {
          "base_uri": "https://localhost:8080/",
          "height": 35
        }
      },
      "source": [
        "#Print the name of the country\n",
        "np_List_of_countries[np.argmax(np_List_of_GDP)]"
      ],
      "execution_count": null,
      "outputs": [
        {
          "output_type": "execute_result",
          "data": {
            "application/vnd.google.colaboratory.intrinsic+json": {
              "type": "string"
            },
            "text/plain": [
              "'Norway'"
            ]
          },
          "metadata": {
            "tags": []
          },
          "execution_count": 11
        }
      ]
    },
    {
      "cell_type": "markdown",
      "metadata": {
        "collapsed": false,
        "id": "Z0S4ifde2Chb"
      },
      "source": [
        "#### 3: Find and print the name of the country with the lowest GDP"
      ]
    },
    {
      "cell_type": "code",
      "metadata": {
        "id": "1WU305yv2Chd",
        "outputId": "f81b3f97-c5fc-4c4d-a2e6-2c5aabfc9717",
        "colab": {
          "base_uri": "https://localhost:8080/"
        }
      },
      "source": [
        "#Use the argmin() method to find the lowest GDP\n",
        "np_List_of_GDP[np.argmin(np_List_of_GDP)]"
      ],
      "execution_count": null,
      "outputs": [
        {
          "output_type": "execute_result",
          "data": {
            "text/plain": [
              "229.6769525"
            ]
          },
          "metadata": {
            "tags": []
          },
          "execution_count": 12
        }
      ]
    },
    {
      "cell_type": "code",
      "metadata": {
        "id": "0mwB1_nC2Chq",
        "outputId": "db166201-eece-4491-e781-ab3622ac9425",
        "colab": {
          "base_uri": "https://localhost:8080/",
          "height": 35
        }
      },
      "source": [
        "#Print the name of the country\n",
        "np_List_of_countries[np.argmin(np_List_of_GDP)]"
      ],
      "execution_count": null,
      "outputs": [
        {
          "output_type": "execute_result",
          "data": {
            "application/vnd.google.colaboratory.intrinsic+json": {
              "type": "string"
            },
            "text/plain": [
              "'Ethiopia'"
            ]
          },
          "metadata": {
            "tags": []
          },
          "execution_count": 13
        }
      ]
    },
    {
      "cell_type": "markdown",
      "metadata": {
        "collapsed": false,
        "id": "JR7gnRTf2Ch5"
      },
      "source": [
        "#### 4: Print out text ('evaluating country') and input value ('country name') iteratively\n"
      ]
    },
    {
      "cell_type": "code",
      "metadata": {
        "id": "e5VV5Tmt2Ch7",
        "outputId": "ce29ae72-833e-49a6-806d-63298ac26ee0",
        "colab": {
          "base_uri": "https://localhost:8080/"
        }
      },
      "source": [
        "#Use a for loop to print the required output\n",
        "for name in np_List_of_countries:\n",
        "  print(\"evaluating country :\",name)"
      ],
      "execution_count": null,
      "outputs": [
        {
          "output_type": "stream",
          "text": [
            "evaluating country : Algeria\n",
            "evaluating country : Angola\n",
            "evaluating country : Argentina\n",
            "evaluating country : Australia\n",
            "evaluating country : Austria\n",
            "evaluating country : Bahamas\n",
            "evaluating country : Bangladesh\n",
            "evaluating country : Belarus\n",
            "evaluating country : Belgium\n",
            "evaluating country : Bhutan\n",
            "evaluating country : Brazil\n",
            "evaluating country : Bulgaria\n",
            "evaluating country : Cambodia\n",
            "evaluating country : Cameroon\n",
            "evaluating country : Chile\n",
            "evaluating country : China\n",
            "evaluating country : Colombia\n",
            "evaluating country : Cyprus\n",
            "evaluating country : Denmark\n",
            "evaluating country : El Salvador\n",
            "evaluating country : Estonia\n",
            "evaluating country : Ethiopia\n",
            "evaluating country : Fiji\n",
            "evaluating country : Finland\n",
            "evaluating country : France\n",
            "evaluating country : Georgia\n",
            "evaluating country : Ghana\n",
            "evaluating country : Grenada\n",
            "evaluating country : Guinea\n",
            "evaluating country : Haiti\n",
            "evaluating country : Honduras\n",
            "evaluating country : Hungary\n",
            "evaluating country : India\n",
            "evaluating country : Indonesia\n",
            "evaluating country : Ireland\n",
            "evaluating country : Italy\n",
            "evaluating country : Japan\n",
            "evaluating country : Kenya\n",
            "evaluating country : South Korea\n",
            "evaluating country : Liberia\n",
            "evaluating country : Malaysia\n",
            "evaluating country : Mexico\n",
            "evaluating country : Morocco\n",
            "evaluating country : Nepal\n",
            "evaluating country : New Zealand\n",
            "evaluating country : Norway\n",
            "evaluating country : Pakistan\n",
            "evaluating country : Peru\n",
            "evaluating country : Qatar\n",
            "evaluating country : Russia\n",
            "evaluating country : Singapore\n",
            "evaluating country : South Africa\n",
            "evaluating country : Spain\n",
            "evaluating country : Sweden\n",
            "evaluating country : Switzerland\n",
            "evaluating country : Thailand\n",
            "evaluating country : United Arab Emirates\n",
            "evaluating country : United Kingdom\n",
            "evaluating country : United States\n",
            "evaluating country : Uruguay\n",
            "evaluating country : Venezuela\n",
            "evaluating country : Vietnam\n",
            "evaluating country : Zimbabwe\n"
          ],
          "name": "stdout"
        }
      ]
    },
    {
      "cell_type": "markdown",
      "metadata": {
        "id": "AsF-LK0V2CiI"
      },
      "source": [
        "#### 5: Print out the entire list of the countries with their GDPs"
      ]
    },
    {
      "cell_type": "code",
      "metadata": {
        "id": "3GD2Ujj42CiL",
        "outputId": "8b2cf6fc-b318-4e46-c0fc-8264c785bb99",
        "colab": {
          "base_uri": "https://localhost:8080/"
        }
      },
      "source": [
        "#Use a for loop to print the required list\n",
        "for i in range(len(np_List_of_countries)):\n",
        "  print(np_List_of_countries[i],\"\\t\",np_List_of_GDP[i])"
      ],
      "execution_count": null,
      "outputs": [
        {
          "output_type": "stream",
          "text": [
            "Algeria \t 2255.225482\n",
            "Angola \t 629.9553062\n",
            "Argentina \t 11601.63022\n",
            "Australia \t 25306.82494\n",
            "Austria \t 27266.40335\n",
            "Bahamas \t 19466.99052\n",
            "Bangladesh \t 588.3691778\n",
            "Belarus \t 2890.345675\n",
            "Belgium \t 24733.62696\n",
            "Bhutan \t 1445.760002\n",
            "Brazil \t 4803.398244\n",
            "Bulgaria \t 2618.876037\n",
            "Cambodia \t 590.4521124\n",
            "Cameroon \t 665.7982328\n",
            "Chile \t 7122.938458\n",
            "China \t 2639.54156\n",
            "Colombia \t 3362.4656\n",
            "Cyprus \t 15378.16704\n",
            "Denmark \t 30860.12808\n",
            "El Salvador \t 2579.115607\n",
            "Estonia \t 6525.541272\n",
            "Ethiopia \t 229.6769525\n",
            "Fiji \t 2242.689259\n",
            "Finland \t 27570.4852\n",
            "France \t 23016.84778\n",
            "Georgia \t 1334.646773\n",
            "Ghana \t 402.6953275\n",
            "Grenada \t 6047.200797\n",
            "Guinea \t 394.1156638\n",
            "Haiti \t 385.5793827\n",
            "Honduras \t 1414.072488\n",
            "Hungary \t 5745.981529\n",
            "India \t 837.7464011\n",
            "Indonesia \t 1206.991065\n",
            "Ireland \t 27715.52837\n",
            "Italy \t 18937.24998\n",
            "Japan \t 39578.07441\n",
            "Kenya \t 478.2194906\n",
            "South Korea \t 16684.21278\n",
            "Liberia \t 279.2204061\n",
            "Malaysia \t 5345.213415\n",
            "Mexico \t 6288.25324\n",
            "Morocco \t 1908.304416\n",
            "Nepal \t 274.8728621\n",
            "New Zealand \t 14646.42094\n",
            "Norway \t 40034.85063\n",
            "Pakistan \t 672.1547506\n",
            "Peru \t 3359.517402\n",
            "Qatar \t 36152.66676\n",
            "Russia \t 3054.727742\n",
            "Singapore \t 33529.83052\n",
            "South Africa \t 3825.093781\n",
            "Spain \t 15428.32098\n",
            "Sweden \t 33630.24604\n",
            "Switzerland \t 39170.41371\n",
            "Thailand \t 2699.123242\n",
            "United Arab Emirates \t 21058.43643\n",
            "United Kingdom \t 28272.40661\n",
            "United States \t 37691.02733\n",
            "Uruguay \t 9581.05659\n",
            "Venezuela \t 5671.912202\n",
            "Vietnam \t 757.4009286\n",
            "Zimbabwe \t 347.7456605\n"
          ],
          "name": "stdout"
        }
      ]
    },
    {
      "cell_type": "markdown",
      "metadata": {
        "collapsed": false,
        "id": "RS3fqnNT2CiW"
      },
      "source": [
        "#### 6: Print the following:\n",
        "1. Highest GPD value\n",
        "2. Lowest GDP value\n",
        "3. Mean GDP value\n",
        "4. Standardized GDP value\n",
        "5. Sum of all the GDPs"
      ]
    },
    {
      "cell_type": "code",
      "metadata": {
        "id": "b1ONVu6S2CiZ",
        "outputId": "74e26337-bb4c-40c8-b99c-48fa99b5c725",
        "colab": {
          "base_uri": "https://localhost:8080/"
        }
      },
      "source": [
        "print(np_List_of_GDP[np.argmax(np_List_of_GDP)])\n",
        "print(np_List_of_GDP[np.argmin(np_List_of_GDP)])\n",
        "print(np.mean(np_List_of_GDP))\n",
        "print(np.std(np_List_of_GDP))\n",
        "print(np.sum(np_List_of_GDP))"
      ],
      "execution_count": null,
      "outputs": [
        {
          "output_type": "stream",
          "text": [
            "40034.85063\n",
            "229.6769525\n",
            "11289.409271639683\n",
            "12743.828910617945\n",
            "711232.7841133\n"
          ],
          "name": "stdout"
        }
      ]
    }
  ]
}