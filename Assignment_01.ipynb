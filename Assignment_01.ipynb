{
  "nbformat": 4,
  "nbformat_minor": 0,
  "metadata": {
    "kernelspec": {
      "display_name": "Python 2",
      "language": "python",
      "name": "python2"
    },
    "language_info": {
      "codemirror_mode": {
        "name": "ipython",
        "version": 2
      },
      "file_extension": ".py",
      "mimetype": "text/x-python",
      "name": "python",
      "nbconvert_exporter": "python",
      "pygments_lexer": "ipython2",
      "version": "2.7.11"
    },
    "colab": {
      "name": "Assignment_01.ipynb",
      "provenance": [],
      "include_colab_link": true
    }
  },
  "cells": [
    {
      "cell_type": "markdown",
      "metadata": {
        "id": "view-in-github",
        "colab_type": "text"
      },
      "source": [
        "<a href=\"https://colab.research.google.com/github/vijayaahirejadhav/DataScience/blob/main/Assignment_01.ipynb\" target=\"_parent\"><img src=\"https://colab.research.google.com/assets/colab-badge.svg\" alt=\"Open In Colab\"/></a>"
      ]
    },
    {
      "cell_type": "markdown",
      "metadata": {
        "collapsed": true,
        "id": "cMObEdz6mdfJ"
      },
      "source": [
        "<img src=\"http://cfs22.simplicdn.net/ice9/new_logo.svgz \"/>\n",
        "\n",
        "# Assignment 01: Solve a Linear Algebra Problem\n",
        "\n",
        "*The comments/sections provided are your cues to perform the assignment. You don't need to limit yourself to the number of rows/cells provided. You can add additional rows in each section to add more lines of code.*\n",
        "\n",
        "*If at any point in time you need help on solving this assignment, view our demo video to understand the different steps of the code.*\n",
        "\n",
        "**Happy coding!**\n",
        "\n",
        "* * *"
      ]
    },
    {
      "cell_type": "markdown",
      "metadata": {
        "id": "UJhf3vKGmdfR"
      },
      "source": [
        "#### 1: Import required libraries"
      ]
    },
    {
      "cell_type": "code",
      "metadata": {
        "collapsed": true,
        "id": "ZG6QPt_NmdfS"
      },
      "source": [
        "import numpy as np\n",
        "from scipy import linalg  "
      ],
      "execution_count": 8,
      "outputs": []
    },
    {
      "cell_type": "markdown",
      "metadata": {
        "id": "sp-Hmig-mdfT"
      },
      "source": [
        "#### 2: Formulate two linear equations based on the given scenario"
      ]
    },
    {
      "cell_type": "markdown",
      "metadata": {
        "id": "jgtYwPexnXl6"
      },
      "source": [
        "There is a test with 30 questions worth 150 marks. The test has two types of questions:\n",
        "\n",
        "1. True or false – carries 4 marks each\n",
        "\n",
        "2. Multiple-choice – carries 9 marks each\n",
        "\n",
        "\n",
        "x + y =30 (Total Question)\n",
        "4x + 9y =150 (Total Marks)\n",
        "\n",
        "Find the number of true or false and multiple-choice questions."
      ]
    },
    {
      "cell_type": "code",
      "metadata": {
        "collapsed": true,
        "id": "wZcQoKHQmdfT"
      },
      "source": [
        "testCoeffient=np.array([[1,1],[4,9]])\n",
        "testConstant=np.array([30,150])"
      ],
      "execution_count": 4,
      "outputs": []
    },
    {
      "cell_type": "markdown",
      "metadata": {
        "collapsed": false,
        "id": "sgKMpCpamdfT"
      },
      "source": [
        "\n",
        "#### 3: Apply a suitable method to solve the linear equation\n"
      ]
    },
    {
      "cell_type": "code",
      "metadata": {
        "collapsed": true,
        "colab": {
          "base_uri": "https://localhost:8080/"
        },
        "id": "hzw8Wv1PmdfU",
        "outputId": "6f3afb02-ab53-4cee-da97-8329a5062544"
      },
      "source": [
        "linalg.solve(testCoeffient,testConstant)"
      ],
      "execution_count": 9,
      "outputs": [
        {
          "output_type": "execute_result",
          "data": {
            "text/plain": [
              "array([24.,  6.])"
            ]
          },
          "metadata": {
            "tags": []
          },
          "execution_count": 9
        }
      ]
    }
  ]
}